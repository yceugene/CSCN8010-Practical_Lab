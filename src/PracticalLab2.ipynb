{
 "cells": [
  {
   "cell_type": "markdown",
   "metadata": {},
   "source": [
    "# Practical Lab 2: Multivariate Linear Regression, Non-Parametric Models and Cross-Validation"
   ]
  },
  {
   "cell_type": "markdown",
   "metadata": {},
   "source": [
    "## About\n",
    "* Target: Build a model to predict the risk of diabetes progression.  \n",
    "* Data source: [Scikit-Learn Diabetes dataset](https://scikit-learn.org/stable/datasets/toy_dataset.html#diabetes-dataset)  \n",
    "* Model types:  \n",
    "    1. Univariate polynomial regression models  \n",
    "    2. Multivariate Polynomial models  \n",
    "    3. Decision Trees  \n",
    "    4. kNNs  \n",
    "* Evaluate approachs:  \n",
    "    1. [R-Squared](https://en.wikipedia.org/wiki/Coefficient_of_determination)\n",
    "    2. [Mean Absolute Percentage Error](https://en.wikipedia.org/wiki/Mean_absolute_percentage_error)\n",
    "    3. [Mean Absolute Error](https://en.wikipedia.org/wiki/Mean_absolute_error)\n",
    "* Data split\n",
    "    * By train-validation-test split\n",
    "    * By Cross-validation"
   ]
  },
  {
   "cell_type": "markdown",
   "metadata": {},
   "source": [
    "## Part 1  \n"
   ]
  },
  {
   "cell_type": "markdown",
   "metadata": {},
   "source": [
    "## Part 2"
   ]
  },
  {
   "cell_type": "markdown",
   "metadata": {},
   "source": [
    "## Part 3"
   ]
  },
  {
   "cell_type": "markdown",
   "metadata": {
    "vscode": {
     "languageId": "plaintext"
    }
   },
   "source": [
    "## References"
   ]
  }
 ],
 "metadata": {
  "language_info": {
   "name": "python"
  }
 },
 "nbformat": 4,
 "nbformat_minor": 2
}
